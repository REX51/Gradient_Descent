{
 "cells": [
  {
   "cell_type": "markdown",
   "metadata": {
    "slideshow": {
     "slide_type": "-"
    }
   },
   "source": [
    "Gradient Descent Linear Regression Algorithm"
   ]
  },
  {
   "cell_type": "code",
   "execution_count": 8,
   "metadata": {
    "scrolled": false
   },
   "outputs": [
    {
     "data": {
      "image/png": "[encoded data removed]",
      "text/plain": [
       "<matplotlib.figure.Figure at 0x7f3fb061a898>"
      ]
     },
     "metadata": {},
     "output_type": "display_data"
    }
   ],
   "source": [
    "#plotting the given data set\n",
    "import matplotlib.pyplot as plt\n",
    "\n",
    "with open('regdata.txt') as f:\n",
    "    read_data = f.read().splitlines()\n",
    "    \n",
    "\n",
    "data = []\n",
    "for i in read_data:\n",
    "    if i!= '':\n",
    "        data.append(i)\n",
    "\n",
    "\n",
    "xt = []\n",
    "yt = []\n",
    "for i in data:\n",
    "    x = i.split('\\t')\n",
    "    xt.append(int(x[0]))\n",
    "    yt.append(int(x[1]))\n",
    "\n",
    "\n",
    "\n",
    "plt.plot(xt,yt,'ro')\n",
    "plt.show()"
   ]
  },
  {
   "cell_type": "code",
   "execution_count": 28,
   "metadata": {
    "scrolled": false
   },
   "outputs": [
    {
     "name": "stdout",
     "output_type": "stream",
     "text": [
      "The value of m: 8.999999999999908\n",
      "The value of c: 12.000000000051864\n",
      "RMS: 4.897807633898696e-10\n"
     ]
    }
   ],
   "source": [
    "#Implementation of Gradient Descent Linear Regression Algorithnm\n",
    "import math\n",
    "\n",
    "with open('regdata.txt') as f:\n",
    "    read_data = f.read().splitlines()\n",
    "    \n",
    "\n",
    "data = []\n",
    "for i in read_data:\n",
    "    if i!= '':\n",
    "        data.append(i)\n",
    "\n",
    "xt = []\n",
    "yt = []\n",
    "for i in data:\n",
    "    x = i.split('\\t')\n",
    "    xt.append(int(x[0]))\n",
    "    yt.append(int(x[1]))\n",
    "\n",
    "gues_y = []\n",
    "for i in xt:\n",
    "    gues_y.append(i)\n",
    "    \n",
    "#gradient Descent algorithm\n",
    "def grad(minit,cinit,lr_rate):\n",
    "    a = lr_rate\n",
    "    m = minit\n",
    "    c = cinit\n",
    "    for i in range(len(data)-1):\n",
    "        gues_y[i] = m*xt[i]+c\n",
    "        err = yt[i]-gues_y[i]\n",
    "        m = m+a*err*xt[i]\n",
    "        c = c+a*err\n",
    "    return m,c\n",
    "\n",
    "    \n",
    "\n",
    "#function to find the RMS value\n",
    "def find_rms(m_e_val, c_e_val):\n",
    "    y_new = []\n",
    "    for i in range(len(xt)):\n",
    "        n = xt[i]*m_e_val +c_e_val\n",
    "        y_new.append(n)\n",
    "        \n",
    "    err = []\n",
    "    for i in range(len(yt)):\n",
    "        z = yt[i]-y_new[i]\n",
    "        err.append(z)\n",
    "            \n",
    "    sq_err = []\n",
    "    for i in range(len(err)):\n",
    "        k = err[i]*err[i]\n",
    "        sq_err.append(k)\n",
    "            \n",
    "    s = 0\n",
    "    for i in range(len(sq_err)):\n",
    "        s = s+sq_err[i]\n",
    "            \n",
    "    mean_sq = s/len(sq_err)\n",
    "        \n",
    "    rms = math.sqrt(mean_sq)\n",
    "    return rms\n",
    "\n",
    "m= 1\n",
    "c= 1\n",
    "\n",
    "#running gradient descent algorithm for 1000 iterations\n",
    "for x in range(0,1000):\n",
    "    m_n_val,c_n_val = grad(m,c,0.00000005)\n",
    "    m, c = m_n_val, c_n_val\n",
    "\n",
    "#rms \n",
    "rms = find_rms(m_n_val, c_n_val)\n",
    "\n",
    "print(\"The value of m:\",m_n_val)\n",
    "print(\"The value of c:\",c_n_val)\n",
    "print(\"RMS:\",rms)"
   ]
  }
 ],
 "metadata": {
  "kernelspec": {
   "display_name": "Python 3",
   "language": "python",
   "name": "python3"
  },
  "language_info": {
   "codemirror_mode": {
    "name": "ipython",
    "version": 3
   },
   "file_extension": ".py",
   "mimetype": "text/x-python",
   "name": "python",
   "nbconvert_exporter": "python",
   "pygments_lexer": "ipython3",
   "version": "3.6.4"
  }
 },
 "nbformat": 4,
 "nbformat_minor": 2
}
